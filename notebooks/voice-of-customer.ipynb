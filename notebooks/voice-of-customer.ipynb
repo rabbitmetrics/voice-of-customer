{
  "nbformat": 4,
  "nbformat_minor": 0,
  "metadata": {
    "colab": {
      "provenance": [],
      "authorship_tag": "ABX9TyMEY08LcoobPzLuG6v8zIP4",
      "include_colab_link": true
    },
    "kernelspec": {
      "name": "python3",
      "display_name": "Python 3"
    },
    "language_info": {
      "name": "python"
    }
  },
  "cells": [
    {
      "cell_type": "markdown",
      "metadata": {
        "id": "view-in-github",
        "colab_type": "text"
      },
      "source": [
        "<a href=\"https://colab.research.google.com/github/rabbitmetrics/voice-of-customer/blob/main/notebooks/voice-of-customer.ipynb\" target=\"_parent\"><img src=\"https://colab.research.google.com/assets/colab-badge.svg\" alt=\"Open In Colab\"/></a>"
      ]
    },
    {
      "cell_type": "code",
      "source": [
        "# Link to the data https://cseweb.ucsd.edu/~jmcauley/datasets/amazon_v2/"
      ],
      "metadata": {
        "id": "8u-SfF4Y5EKk"
      },
      "execution_count": null,
      "outputs": []
    },
    {
      "cell_type": "code",
      "execution_count": null,
      "metadata": {
        "id": "CzpascW64xk1"
      },
      "outputs": [],
      "source": [
        "import os\n",
        "import gzip\n",
        "import json\n",
        "import pandas as pd\n",
        "\n",
        "from dotenv import load_dotenv,find_dotenv\n",
        "\n",
        "load_dotenv(find_dotenv())"
      ]
    },
    {
      "cell_type": "code",
      "source": [
        "# Extract data and load to dataframes\n",
        "\n",
        "data = []\n",
        "with gzip.open('AMAZON_FASHION.json.gz') as f:\n",
        "    for l in f:\n",
        "        data.append(json.loads(l.strip()))\n",
        "        \n",
        "metadata = []\n",
        "with gzip.open('meta_AMAZON_FASHION.json.gz') as f:\n",
        "    for l in f:\n",
        "        metadata.append(json.loads(l.strip()))\n",
        "        \n",
        "df = pd.DataFrame.from_dict(data)\n",
        "df = df[df['reviewText'].notna()]\n",
        "df_meta=pd.DataFrame.from_dict(metadata)\n",
        "\n",
        "df = df.loc[df['asin'] == 'B000KPIHQ4'].copy()\n",
        "df_meta = df_meta.loc[df_meta['asin'] == 'B000KPIHQ4'].copy()"
      ],
      "metadata": {
        "id": "r64SAO8V49wj"
      },
      "execution_count": null,
      "outputs": []
    },
    {
      "cell_type": "code",
      "source": [
        "# Prepare lists for Pinecone upload\n",
        "\n",
        "texts=df['reviewText'].tolist()\n",
        "metadata=[dict(rating=i) for i in df['overall'].tolist()]"
      ],
      "metadata": {
        "id": "Y4Iuf2DI5Lxt"
      },
      "execution_count": null,
      "outputs": []
    },
    {
      "cell_type": "code",
      "source": [
        "# Load embeddings\n",
        "\n",
        "from langchain.embeddings import HuggingFaceEmbeddings\n",
        "\n",
        "embeddings = HuggingFaceEmbeddings()"
      ],
      "metadata": {
        "id": "_Mk1mapp5ZWl"
      },
      "execution_count": null,
      "outputs": []
    },
    {
      "cell_type": "code",
      "source": [
        "# Add review embeddings with metadata\n",
        "\n",
        "vstore = Pinecone.from_texts(texts, embeddings, index_name='voice',metadatas=metadata)"
      ],
      "metadata": {
        "id": "6gRaUvcF5csg"
      },
      "execution_count": null,
      "outputs": []
    },
    {
      "cell_type": "code",
      "source": [
        "# Filtered similarity search in LangChain\n",
        "\n",
        "docs=vstore.similarity_search(\"The Powerstep Pinnacle Shoe Insoles are fantastic\", 100, filter= {\"rating\":5.0})"
      ],
      "metadata": {
        "id": "R433XwPe5jVt"
      },
      "execution_count": null,
      "outputs": []
    },
    {
      "cell_type": "code",
      "source": [
        "# Load Chat Model and summarize chain for writing summary of reviews and ad copy\n",
        "\n",
        "from langchain.prompts import PromptTemplate\n",
        "from langchain.chat_models import ChatOpenAI\n",
        "from langchain.chains.summarize import load_summarize_chain\n",
        "\n",
        "chat = ChatOpenAI(model_name=\"gpt-4\",temperature=0.2)"
      ],
      "metadata": {
        "id": "iCvXz3ec5pZ1"
      },
      "execution_count": null,
      "outputs": []
    },
    {
      "cell_type": "code",
      "source": [
        "# Write summary of reviews\n",
        "\n",
        "prompt_template_summary = \"\"\"\n",
        "Write a summary of the reviews:\n",
        "\n",
        "{text}\n",
        "\n",
        "The summary should be about ten lines long\n",
        "\"\"\"\n",
        "PROMPT = PromptTemplate(template=prompt_template_summary, input_variables=[\"text\"])\n",
        "chain = load_summarize_chain(chat, chain_type=\"stuff\", prompt=PROMPT)\n",
        "summary=chain.run(docs)"
      ],
      "metadata": {
        "id": "XDeaOefk54R9"
      },
      "execution_count": null,
      "outputs": []
    },
    {
      "cell_type": "code",
      "source": [
        "# Write ad copy for Facebook ad\n",
        "\n",
        "prompt_template_fb = \"\"\"\n",
        "Write the copy for a facebook ad based on the reviews:\n",
        "\n",
        "{text}\n",
        "\n",
        "As far as text goes, you can have up to 40 characters in your headline, \n",
        "125 characters in your primary text, and 30 characters in your description\n",
        "\"\"\"\n",
        "PROMPT = PromptTemplate(template=prompt_template_fb, input_variables=[\"text\"])\n",
        "chain = load_summarize_chain(chat, chain_type=\"stuff\", prompt=PROMPT)\n",
        "fb_copy=chain.run(docs)"
      ],
      "metadata": {
        "id": "lYSLrY4B5-bC"
      },
      "execution_count": null,
      "outputs": []
    },
    {
      "cell_type": "code",
      "source": [
        "# Load tools needed for connecting LangChain and Zapier\n",
        "\n",
        "from langchain.agents.agent_toolkits import ZapierToolkit\n",
        "from langchain.utilities.zapier import ZapierNLAWrapper\n",
        "\n",
        "from langchain.agents import initialize_agent\n",
        "zapier = ZapierNLAWrapper()\n",
        "toolkit = ZapierToolkit.from_zapier_nla_wrapper(zapier)"
      ],
      "metadata": {
        "id": "KFIdjbBc6FLD"
      },
      "execution_count": null,
      "outputs": []
    },
    {
      "cell_type": "code",
      "source": [
        "# Formulate email based on customer info, customer reviews and summary of all reviews.\n",
        "\n",
        "def formulate_email(email,name,review,summary):\n",
        "    q=f\"\"\"\n",
        "    The customer {name} just gave the following review {review}\n",
        "    Formulate and send an email to {email} based on the review that {name} gave\n",
        "    and take into account the overall summary of the review given here: '{summary}'. \n",
        "    The email should be signed with the name Benjamin\n",
        "    \"\"\"\n",
        "    return q"
      ],
      "metadata": {
        "id": "0UphwNT56TBM"
      },
      "execution_count": null,
      "outputs": []
    },
    {
      "cell_type": "code",
      "source": [
        "# Add fake names and emails\n",
        "from faker import Faker\n",
        "faker = Faker()\n",
        "domain='@YourLangchainTestDomain.com'\n",
        "\n",
        "df['first_name']=df.apply(lambda row: faker.first_name(), axis=1)\n",
        "df['last_name']=df.apply(lambda row: faker.last_name(), axis=1)\n",
        "df['email']=df.apply(lambda row: \n",
        "                     row['first_name'].lower()+row['last_name'].lower()+domain, \n",
        "                     axis=1)\n",
        "df=df[['first_name','last_name','reviewText','email','overall']]"
      ],
      "metadata": {
        "id": "TfxjtMtP6mZs"
      },
      "execution_count": null,
      "outputs": []
    },
    {
      "cell_type": "code",
      "source": [
        "# Instantiate agent and send emails \n",
        "\n",
        "from langchain.llms import OpenAI\n",
        "llm = OpenAI(temperature=0.2)\n",
        "\n",
        "agent = initialize_agent(toolkit.get_tools(), llm, \n",
        "        agent=\"zero-shot-react-description\", verbose=True)\n",
        "\n",
        "df.apply(lambda row:agent.run(formulate_email(row['email'],\n",
        "                                                      row['first_name'],\n",
        "                                                      row['reviewText'],\n",
        "                                                      summary)),axis=1)"
      ],
      "metadata": {
        "id": "KsVyGIcJ67Sb"
      },
      "execution_count": null,
      "outputs": []
    },
    {
      "cell_type": "code",
      "source": [],
      "metadata": {
        "id": "KmTwLsAH63Ad"
      },
      "execution_count": null,
      "outputs": []
    }
  ]
}